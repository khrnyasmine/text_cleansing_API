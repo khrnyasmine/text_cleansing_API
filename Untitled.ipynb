{
 "cells": [
  {
   "cell_type": "code",
   "execution_count": 39,
   "id": "a59d9bc6-55f8-4b89-aa4a-3bfe1d03b319",
   "metadata": {
    "tags": []
   },
   "outputs": [],
   "source": [
    "# Import library\n",
    "import re\n",
    "import pandas as pd\n",
    "import emoji"
   ]
  },
  {
   "cell_type": "markdown",
   "id": "a8012505-c59e-4f19-886d-09b6e0975805",
   "metadata": {},
   "source": [
    "### Check Raw Text Data"
   ]
  },
  {
   "cell_type": "code",
   "execution_count": 6,
   "id": "7c677178-b524-4c09-bb5b-a245e63355be",
   "metadata": {
    "tags": []
   },
   "outputs": [
    {
     "data": {
      "text/html": [
       "<div>\n",
       "<style scoped>\n",
       "    .dataframe tbody tr th:only-of-type {\n",
       "        vertical-align: middle;\n",
       "    }\n",
       "\n",
       "    .dataframe tbody tr th {\n",
       "        vertical-align: top;\n",
       "    }\n",
       "\n",
       "    .dataframe thead th {\n",
       "        text-align: right;\n",
       "    }\n",
       "</style>\n",
       "<table border=\"1\" class=\"dataframe\">\n",
       "  <thead>\n",
       "    <tr style=\"text-align: right;\">\n",
       "      <th></th>\n",
       "      <th>Tweet</th>\n",
       "      <th>HS</th>\n",
       "      <th>Abusive</th>\n",
       "      <th>HS_Individual</th>\n",
       "      <th>HS_Group</th>\n",
       "      <th>HS_Religion</th>\n",
       "      <th>HS_Race</th>\n",
       "      <th>HS_Physical</th>\n",
       "      <th>HS_Gender</th>\n",
       "      <th>HS_Other</th>\n",
       "      <th>HS_Weak</th>\n",
       "      <th>HS_Moderate</th>\n",
       "      <th>HS_Strong</th>\n",
       "    </tr>\n",
       "  </thead>\n",
       "  <tbody>\n",
       "    <tr>\n",
       "      <th>0</th>\n",
       "      <td>- disaat semua cowok berusaha melacak perhatia...</td>\n",
       "      <td>1</td>\n",
       "      <td>1</td>\n",
       "      <td>1</td>\n",
       "      <td>0</td>\n",
       "      <td>0</td>\n",
       "      <td>0</td>\n",
       "      <td>0</td>\n",
       "      <td>0</td>\n",
       "      <td>1</td>\n",
       "      <td>1</td>\n",
       "      <td>0</td>\n",
       "      <td>0</td>\n",
       "    </tr>\n",
       "    <tr>\n",
       "      <th>1</th>\n",
       "      <td>RT USER: USER siapa yang telat ngasih tau elu?...</td>\n",
       "      <td>0</td>\n",
       "      <td>1</td>\n",
       "      <td>0</td>\n",
       "      <td>0</td>\n",
       "      <td>0</td>\n",
       "      <td>0</td>\n",
       "      <td>0</td>\n",
       "      <td>0</td>\n",
       "      <td>0</td>\n",
       "      <td>0</td>\n",
       "      <td>0</td>\n",
       "      <td>0</td>\n",
       "    </tr>\n",
       "    <tr>\n",
       "      <th>2</th>\n",
       "      <td>41. Kadang aku berfikir, kenapa aku tetap perc...</td>\n",
       "      <td>0</td>\n",
       "      <td>0</td>\n",
       "      <td>0</td>\n",
       "      <td>0</td>\n",
       "      <td>0</td>\n",
       "      <td>0</td>\n",
       "      <td>0</td>\n",
       "      <td>0</td>\n",
       "      <td>0</td>\n",
       "      <td>0</td>\n",
       "      <td>0</td>\n",
       "      <td>0</td>\n",
       "    </tr>\n",
       "    <tr>\n",
       "      <th>3</th>\n",
       "      <td>USER USER AKU ITU AKU\\n\\nKU TAU MATAMU SIPIT T...</td>\n",
       "      <td>0</td>\n",
       "      <td>0</td>\n",
       "      <td>0</td>\n",
       "      <td>0</td>\n",
       "      <td>0</td>\n",
       "      <td>0</td>\n",
       "      <td>0</td>\n",
       "      <td>0</td>\n",
       "      <td>0</td>\n",
       "      <td>0</td>\n",
       "      <td>0</td>\n",
       "      <td>0</td>\n",
       "    </tr>\n",
       "    <tr>\n",
       "      <th>4</th>\n",
       "      <td>USER USER Kaum cebong kapir udah keliatan dong...</td>\n",
       "      <td>1</td>\n",
       "      <td>1</td>\n",
       "      <td>0</td>\n",
       "      <td>1</td>\n",
       "      <td>1</td>\n",
       "      <td>0</td>\n",
       "      <td>0</td>\n",
       "      <td>0</td>\n",
       "      <td>0</td>\n",
       "      <td>0</td>\n",
       "      <td>1</td>\n",
       "      <td>0</td>\n",
       "    </tr>\n",
       "    <tr>\n",
       "      <th>...</th>\n",
       "      <td>...</td>\n",
       "      <td>...</td>\n",
       "      <td>...</td>\n",
       "      <td>...</td>\n",
       "      <td>...</td>\n",
       "      <td>...</td>\n",
       "      <td>...</td>\n",
       "      <td>...</td>\n",
       "      <td>...</td>\n",
       "      <td>...</td>\n",
       "      <td>...</td>\n",
       "      <td>...</td>\n",
       "      <td>...</td>\n",
       "    </tr>\n",
       "    <tr>\n",
       "      <th>13164</th>\n",
       "      <td>USER jangan asal ngomong ndasmu. congor lu yg ...</td>\n",
       "      <td>1</td>\n",
       "      <td>1</td>\n",
       "      <td>1</td>\n",
       "      <td>0</td>\n",
       "      <td>0</td>\n",
       "      <td>0</td>\n",
       "      <td>1</td>\n",
       "      <td>0</td>\n",
       "      <td>0</td>\n",
       "      <td>1</td>\n",
       "      <td>0</td>\n",
       "      <td>0</td>\n",
       "    </tr>\n",
       "    <tr>\n",
       "      <th>13165</th>\n",
       "      <td>USER Kasur mana enak kunyuk'</td>\n",
       "      <td>0</td>\n",
       "      <td>1</td>\n",
       "      <td>0</td>\n",
       "      <td>0</td>\n",
       "      <td>0</td>\n",
       "      <td>0</td>\n",
       "      <td>0</td>\n",
       "      <td>0</td>\n",
       "      <td>0</td>\n",
       "      <td>0</td>\n",
       "      <td>0</td>\n",
       "      <td>0</td>\n",
       "    </tr>\n",
       "    <tr>\n",
       "      <th>13166</th>\n",
       "      <td>USER Hati hati bisu :( .g\\n\\nlagi bosan huft \\...</td>\n",
       "      <td>0</td>\n",
       "      <td>0</td>\n",
       "      <td>0</td>\n",
       "      <td>0</td>\n",
       "      <td>0</td>\n",
       "      <td>0</td>\n",
       "      <td>0</td>\n",
       "      <td>0</td>\n",
       "      <td>0</td>\n",
       "      <td>0</td>\n",
       "      <td>0</td>\n",
       "      <td>0</td>\n",
       "    </tr>\n",
       "    <tr>\n",
       "      <th>13167</th>\n",
       "      <td>USER USER USER USER Bom yang real mudah terdet...</td>\n",
       "      <td>0</td>\n",
       "      <td>0</td>\n",
       "      <td>0</td>\n",
       "      <td>0</td>\n",
       "      <td>0</td>\n",
       "      <td>0</td>\n",
       "      <td>0</td>\n",
       "      <td>0</td>\n",
       "      <td>0</td>\n",
       "      <td>0</td>\n",
       "      <td>0</td>\n",
       "      <td>0</td>\n",
       "    </tr>\n",
       "    <tr>\n",
       "      <th>13168</th>\n",
       "      <td>USER Mana situ ngasih(\": itu cuma foto ya kuti...</td>\n",
       "      <td>1</td>\n",
       "      <td>1</td>\n",
       "      <td>1</td>\n",
       "      <td>0</td>\n",
       "      <td>0</td>\n",
       "      <td>0</td>\n",
       "      <td>0</td>\n",
       "      <td>0</td>\n",
       "      <td>1</td>\n",
       "      <td>1</td>\n",
       "      <td>0</td>\n",
       "      <td>0</td>\n",
       "    </tr>\n",
       "  </tbody>\n",
       "</table>\n",
       "<p>13169 rows × 13 columns</p>\n",
       "</div>"
      ],
      "text/plain": [
       "                                                   Tweet  HS  Abusive  \\\n",
       "0      - disaat semua cowok berusaha melacak perhatia...   1        1   \n",
       "1      RT USER: USER siapa yang telat ngasih tau elu?...   0        1   \n",
       "2      41. Kadang aku berfikir, kenapa aku tetap perc...   0        0   \n",
       "3      USER USER AKU ITU AKU\\n\\nKU TAU MATAMU SIPIT T...   0        0   \n",
       "4      USER USER Kaum cebong kapir udah keliatan dong...   1        1   \n",
       "...                                                  ...  ..      ...   \n",
       "13164  USER jangan asal ngomong ndasmu. congor lu yg ...   1        1   \n",
       "13165                       USER Kasur mana enak kunyuk'   0        1   \n",
       "13166  USER Hati hati bisu :( .g\\n\\nlagi bosan huft \\...   0        0   \n",
       "13167  USER USER USER USER Bom yang real mudah terdet...   0        0   \n",
       "13168  USER Mana situ ngasih(\": itu cuma foto ya kuti...   1        1   \n",
       "\n",
       "       HS_Individual  HS_Group  HS_Religion  HS_Race  HS_Physical  HS_Gender  \\\n",
       "0                  1         0            0        0            0          0   \n",
       "1                  0         0            0        0            0          0   \n",
       "2                  0         0            0        0            0          0   \n",
       "3                  0         0            0        0            0          0   \n",
       "4                  0         1            1        0            0          0   \n",
       "...              ...       ...          ...      ...          ...        ...   \n",
       "13164              1         0            0        0            1          0   \n",
       "13165              0         0            0        0            0          0   \n",
       "13166              0         0            0        0            0          0   \n",
       "13167              0         0            0        0            0          0   \n",
       "13168              1         0            0        0            0          0   \n",
       "\n",
       "       HS_Other  HS_Weak  HS_Moderate  HS_Strong  \n",
       "0             1        1            0          0  \n",
       "1             0        0            0          0  \n",
       "2             0        0            0          0  \n",
       "3             0        0            0          0  \n",
       "4             0        0            1          0  \n",
       "...         ...      ...          ...        ...  \n",
       "13164         0        1            0          0  \n",
       "13165         0        0            0          0  \n",
       "13166         0        0            0          0  \n",
       "13167         0        0            0          0  \n",
       "13168         1        1            0          0  \n",
       "\n",
       "[13169 rows x 13 columns]"
      ]
     },
     "execution_count": 6,
     "metadata": {},
     "output_type": "execute_result"
    }
   ],
   "source": [
    "df = pd.read_csv(\"data.csv\", encoding=\"latin-1\")\n",
    "df"
   ]
  },
  {
   "cell_type": "code",
   "execution_count": 7,
   "id": "5b37b97f-26f5-4929-a44b-245a884a3bc7",
   "metadata": {
    "tags": []
   },
   "outputs": [],
   "source": [
    "# import csv\n",
    "# kamus abusive\n",
    "abusive_data = pd.read_csv(\"csv_data/abusive.csv\")\n",
    "# kamus alay\n",
    "kamus_alay_data = pd.read_csv(\"csv_data/alay.csv\", encoding=\"latin-1\")\n",
    "kamus_alay_data.columns = ['alay', 'baku']\n",
    "kamus_alay_dict = dict(zip(kamus_alay_data['alay'], kamus_alay_data['baku']))\n",
    "\n",
    "# fungsi untuk membersihkan kata alay\n",
    "def alay_cleansing(text):\n",
    "    for key, value in kamus_alay_dict.items():\n",
    "        if key == text:\n",
    "            text = text.replace(key, value)\n",
    "    return text \n",
    "\n",
    "# fungsi untuk mencensor kata abusive\n",
    "def abusive_cleansing(text):\n",
    "    for word in abusive_data['ABUSIVE']:\n",
    "        if word == text:\n",
    "            text = text.replace(word, word[0] + '*' * (len(word)-1))\n",
    "    return text"
   ]
  },
  {
   "cell_type": "code",
   "execution_count": 120,
   "id": "87a5dedd-d57e-4baa-b80d-19bfd6b969ba",
   "metadata": {
    "tags": []
   },
   "outputs": [
    {
     "data": {
      "text/plain": [
       "'6 pride yunani hyper phania keangkuhan harga diri kesombongan dikenal juga dengan sebutan hubris vanity harga diri yang tinggi dapat mengubah manusia sombong kesombongan membuat manusia t******* dimata tuhan dan dapat membuat manusia mencintai dirinya sendiri'"
      ]
     },
     "execution_count": 120,
     "metadata": {},
     "output_type": "execute_result"
    }
   ],
   "source": [
    "# Cleansing function\n",
    "def text_cleansing(text):\n",
    "    # lowercase\n",
    "    clean_text = str(text).lower()\n",
    "    # membersihkan URL\n",
    "    clean_text = re.sub(r'(http\\S+|www\\S+)', '', clean_text).strip()\n",
    "    # membersihkan emoticon byte\n",
    "    # clean_text = re.sub(r'\\\\x([a-fA-F0-9]{2}){3,}', '', clean_text)\n",
    "    clean_text = clean_text.replace(\"\\\\\", \" \")\n",
    "    clean_text = re.sub(r'\\bx[0-9a-fA-F]{2,}\\b', ' ', clean_text)\n",
    "    clean_text = re.sub(r'\\bn\\b', ' ', clean_text)\n",
    "    clean_text = re.sub('\\\\+', ' ', clean_text)\n",
    "    clean_text = re.sub('  +', ' ', clean_text)\n",
    "    # bersihkan tanda baca (selain huruf dan angka)\n",
    "    clean_text = re.sub(r'[^a-zA-Z0-9\\s]', ' ', clean_text)\n",
    "    # membersihkan username\n",
    "    clean_text = re.sub(r'\\buser\\b', '', clean_text, flags=re.IGNORECASE)\n",
    "    # mebersihkan rt (retweet)\n",
    "    clean_text = re.sub(r'\\brt\\b', '', clean_text, flags=re.IGNORECASE)\n",
    "    # mensubtitusikan kata alay dengan kata baku\n",
    "    clean_text = ' '.join([alay_cleansing(j) for j in clean_text.split()])\n",
    "    # mencensor kata abusive\n",
    "    clean_text = ' '.join([abusive_cleansing(i) for i in clean_text.split()])\n",
    "    clean_text = re.sub('uniform resource locator',' ',clean_text).strip()\n",
    "    return clean_text\n",
    "\n",
    "text_cleansing(\"6. Pride (Yunani; \\xe1\\xbd\\x99\\xcf\\x80\\xce\\xb5\\xcf\\x81\\xce\\xb7\\xcf\\x86\\xce\\xb1\\xce\\xbd\\xce\\xaf\\xce\\xb1-hyper\\xc4\\x93phania) keangkuhan/harga diri/kesombongan\\ndikenal juga dengan sebutan hubris/vanity. harga diri yang tinggi dapat merubah manusia sombong, kesombongan membuat manusia terkutuk dimata tuhan.dan dapat membuat manusia mencintai dirinya sendiri-\")"
   ]
  },
  {
   "cell_type": "code",
   "execution_count": 9,
   "id": "ab10c779-9d7c-4ef6-902c-85bd80c49ba0",
   "metadata": {
    "tags": []
   },
   "outputs": [
    {
     "name": "stderr",
     "output_type": "stream",
     "text": [
      "\n",
      "KeyboardInterrupt\n",
      "\n"
     ]
    }
   ],
   "source": [
    "df['clean_tweet'] = df['Tweet'].apply(text_cleansing)\n",
    "df"
   ]
  },
  {
   "cell_type": "code",
   "execution_count": 100,
   "id": "55a9a6b2-3b78-4ee4-91d0-103b30284cd3",
   "metadata": {
    "tags": []
   },
   "outputs": [
    {
     "data": {
      "text/plain": [
       "'terangi negeri dengan budaya yuk pada mengunjungi ke purwokerto mumpung ada even rakyat purwokerto ekstra vaganza banyumas'"
      ]
     },
     "execution_count": 100,
     "metadata": {},
     "output_type": "execute_result"
    }
   ],
   "source": [
    "text = \"#TerangiNegeri dengan budaya , yuk pada visit ke purwokerto ,mumpung Ada even rakyat.; .; #purwokerto; #extravaganzabanyumas\"\n",
    "text = text_cleansing(text)\n",
    "text"
   ]
  },
  {
   "cell_type": "code",
   "execution_count": null,
   "id": "2ec1aea7-46d3-4d3e-ab3b-17cbd6909aa9",
   "metadata": {},
   "outputs": [],
   "source": []
  },
  {
   "cell_type": "code",
   "execution_count": null,
   "id": "f109c265-f9a1-4d1b-9509-f41713aacede",
   "metadata": {},
   "outputs": [],
   "source": [
    "line_raw = b'Ari sarua beki mah repeh monyet\\xf0\\x9f\\x98\\x86\\xf0\\x9f\\x98\\x86'\n",
    "\n",
    "line = line_raw.decode('utf-8')\n",
    "# print(repr(line))\n",
    "\n",
    "print(line.encode('ascii', 'ignore'))\n",
    "print(line.encode('ascii', 'replace'))"
   ]
  },
  {
   "cell_type": "code",
   "execution_count": 44,
   "id": "3e283cef-ced4-41f3-86f1-241af1cda2d5",
   "metadata": {
    "tags": []
   },
   "outputs": [],
   "source": [
    "def text_cleansing(text):\n",
    "    # lowercase\n",
    "    raw_text = str(text).lower()\n",
    "    # clean emoticon byte\n",
    "    raw_text = raw_text.encode('utf-8')\n",
    "    raw_text = raw_text.decode('utf-8')\n",
    "    raw_text = raw_text.encode('ascii', 'ignore')\n",
    "    raw_text = raw_text.decode('utf-8')\n",
    "    # clean URL\n",
    "    clean_text = re.sub(r'(http\\S+|www\\S+)', '', raw_text).strip()\n",
    "    # clean punctuations\n",
    "    clean_text = re.sub(r'[^a-zA-Z0-9\\s]', ' ', clean_text)\n",
    "    # subtitute kata alay dengan kata baku\n",
    "    clean_text = ' '.join([alay_cleansing(j) for j in clean_text.split()])\n",
    "    # censor abusive words\n",
    "    clean_text = ' '.join([abusive_cleansing(i) for i in clean_text.split()])\n",
    "    return clean_text"
   ]
  },
  {
   "cell_type": "code",
   "execution_count": 45,
   "id": "efb36221-4867-41c1-9049-ce7c42420e31",
   "metadata": {
    "tags": []
   },
   "outputs": [
    {
     "name": "stdout",
     "output_type": "stream",
     "text": [
      "pengguna ya b*** t***** dan kawan kawan xf0 x9f x98 x84 xf0 x9f x98 x84 xf0 x9f x98 x84\n"
     ]
    }
   ],
   "source": [
    "text = \"\"\"USER Ya bani taplak dkk \\\\xf0\\\\x9f\\\\x98\\\\x84\\\\xf0\\\\x9f\\\\x98\\\\x84\\\\xf0\\\\x9f\\\\x98\\\\x84\"\"\"\n",
    "\n",
    "print(text_cleansing(text))"
   ]
  },
  {
   "cell_type": "code",
   "execution_count": 114,
   "id": "ab378a1b-13ff-4e2f-9f5d-55c42c62ec0f",
   "metadata": {
    "tags": []
   },
   "outputs": [
    {
     "data": {
      "text/plain": [
       "\"-hyperphania'\""
      ]
     },
     "execution_count": 114,
     "metadata": {},
     "output_type": "execute_result"
    }
   ],
   "source": [
    "line_raw = \"\\xe1\\xbd\\x99\\xcf\\x80\\xce\\xb5\\xcf\\x81\\xce\\xb7\\xcf\\x86\\xce\\xb1\\xce\\xbd\\xce\\xaf\\xce\\xb1-hyper\\xc4\\x93phania'\"\n",
    "line_raw = line_raw.encode('utf-8')\n",
    "line = line_raw.decode('utf-8')\n",
    "# print(repr(line))\n",
    "\n",
    "clean_line = line.encode('ascii', 'ignore')\n",
    "# print(line.encode('ascii', 'replace'))\n",
    "clean_line.decode('utf-8')"
   ]
  },
  {
   "cell_type": "code",
   "execution_count": 75,
   "id": "89d62d7b-adfc-4213-91a9-2b09caec0a83",
   "metadata": {
    "tags": []
   },
   "outputs": [
    {
     "name": "stdout",
     "output_type": "stream",
     "text": [
      "Setidaknya gw punya jari tengah buat lu, sebelom gw ukur nyali sama bacot lu \\xf0\\x9f\\x98\\x8f extravaganza\n"
     ]
    }
   ],
   "source": [
    "def remove_emoticons(input_text):\n",
    "    # Define a pattern for the emoticon byte sequence with double-escaped backslashes\n",
    "    emoticon_pattern = re.compile(r'(?<!\\\\)\\\\x([a-fA-F0-9]{2}){3,}')\n",
    "\n",
    "    # Remove the emoticon byte sequence\n",
    "    cleaned_text = re.sub(emoticon_pattern, '', input_text)\n",
    "\n",
    "    return cleaned_text\n",
    "\n",
    "# Example usage\n",
    "raw_input = 'Setidaknya gw punya jari tengah buat lu, sebelom gw ukur nyali sama bacot lu \\\\xf0\\\\x9f\\\\x98\\\\x8f extravaganza'\n",
    "cleaned_text = remove_emoticons(raw_input)\n",
    "print(cleaned_text)"
   ]
  },
  {
   "cell_type": "code",
   "execution_count": null,
   "id": "49ed284b-fdff-4c11-9583-481614fd368f",
   "metadata": {},
   "outputs": [],
   "source": [
    "untuk mencatat kemunculan kata abusive\n",
    "abusive_occurence = []\n",
    "\n",
    "def count_abusive(text):\n",
    "    jumlah_kata_abusive = 0\n",
    "    text = re.sub(r'[^a-zA-Z0-9\\s]', ' ', str(text)).lower()\n",
    "    words = text.split()\n",
    "    for word in words:\n",
    "        for item in abusive_data['ABUSIVE']:\n",
    "            if item == word:\n",
    "                jumlah_kata_abusive += 1\n",
    "                abusive_occurence.append(word)\n",
    "    return jumlah_kata_abusive"
   ]
  },
  {
   "cell_type": "code",
   "execution_count": null,
   "id": "6084fc22-f500-4a59-b583-41c747cc2564",
   "metadata": {},
   "outputs": [],
   "source": []
  }
 ],
 "metadata": {
  "kernelspec": {
   "display_name": "Python 3 (ipykernel)",
   "language": "python",
   "name": "python3"
  },
  "language_info": {
   "codemirror_mode": {
    "name": "ipython",
    "version": 3
   },
   "file_extension": ".py",
   "mimetype": "text/x-python",
   "name": "python",
   "nbconvert_exporter": "python",
   "pygments_lexer": "ipython3",
   "version": "3.10.6"
  }
 },
 "nbformat": 4,
 "nbformat_minor": 5
}
